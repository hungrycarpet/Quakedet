{
  "nbformat": 4,
  "nbformat_minor": 0,
  "metadata": {
    "colab": {
      "name": "speech recognition .ipynb",
      "provenance": [],
      "authorship_tag": "ABX9TyOmjBF5dGXRnAwAR/N9XsEN",
      "include_colab_link": true
    },
    "kernelspec": {
      "name": "python3",
      "display_name": "Python 3"
    },
    "language_info": {
      "name": "python"
    }
  },
  "cells": [
    {
      "cell_type": "markdown",
      "metadata": {
        "id": "view-in-github",
        "colab_type": "text"
      },
      "source": [
        "<a href=\"https://colab.research.google.com/github/hungrycarpet/Quakedet/blob/main/speech_recognition_.ipynb\" target=\"_parent\"><img src=\"https://colab.research.google.com/assets/colab-badge.svg\" alt=\"Open In Colab\"/></a>"
      ]
    },
    {
      "cell_type": "code",
      "metadata": {
        "id": "gAb7do6uQAAT"
      },
      "source": [
        "import speech_recognition as sr\n",
        "import pyaudio\n",
        "\n",
        "r=sr.Recognizer()\n",
        "\n",
        "mic=sr.Microphone()\n",
        "mic=sr.Microphone(device_index=3)\n",
        "\n",
        "with mic as source:\n",
        "  r.adjust_for_ambient_noise(source)\n",
        "  audio=r.listen(source)\n",
        "\n",
        "string=r.recognize_google(audio)\n"
      ],
      "execution_count": null,
      "outputs": []
    }
  ]
}