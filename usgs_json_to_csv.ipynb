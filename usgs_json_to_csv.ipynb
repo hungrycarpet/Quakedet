{
  "nbformat": 4,
  "nbformat_minor": 0,
  "metadata": {
    "colab": {
      "name": "usgs_json_to_csv.ipynb",
      "provenance": [],
      "collapsed_sections": [],
      "mount_file_id": "1aAp0N1luFJ4XoVsMBP_d9XwlYgsbrCNb",
      "authorship_tag": "ABX9TyPYOvklsy1Jdf9kqpiyjvA6",
      "include_colab_link": true
    },
    "kernelspec": {
      "name": "python3",
      "display_name": "Python 3"
    },
    "language_info": {
      "name": "python"
    }
  },
  "cells": [
    {
      "cell_type": "markdown",
      "metadata": {
        "id": "view-in-github",
        "colab_type": "text"
      },
      "source": [
        "<a href=\"https://colab.research.google.com/github/hungrycarpet/Quakedet/blob/main/usgs_json_to_csv.ipynb\" target=\"_parent\"><img src=\"https://colab.research.google.com/assets/colab-badge.svg\" alt=\"Open In Colab\"/></a>"
      ]
    },
    {
      "cell_type": "code",
      "metadata": {
        "id": "Oyvuk5Lt_fas"
      },
      "source": [
        "from urllib import request\n",
        "import numpy as np\n",
        "import pandas as pd\n",
        "import sklearn as sk\n",
        "import os\n",
        "import json\n",
        "import csv"
      ],
      "execution_count": null,
      "outputs": []
    },
    {
      "cell_type": "code",
      "metadata": {
        "id": "kc5nMRnwPcfA"
      },
      "source": [
        "os.makedirs(r'/content/usgs_data',exist_ok=True)"
      ],
      "execution_count": null,
      "outputs": []
    },
    {
      "cell_type": "code",
      "metadata": {
        "id": "IjnI95SbAOis"
      },
      "source": [
        "def download_data(start_year=1880,end_year=1949):\n",
        "  year_range=range(start_year,end_year+1,1)\n",
        "  for year in year_range:  \n",
        "    with request.urlopen('https://earthquake.usgs.gov/fdsnws/event/1/query?format=geojson&starttime={}-01-01&endtime={}-01-02'.format(year,year)) as webfile:\n",
        "                                \n",
        "                                with open(r'/content/usgs_data/data-{}.json'.format(year),'wb') as fileob:\n",
        "                                  \n",
        "                                  for line in webfile:\n",
        "                                    fileob.write(line)\n",
        "    \n",
        "    \n",
        "\n",
        "download_data()  \n"
      ],
      "execution_count": null,
      "outputs": []
    },
    {
      "cell_type": "code",
      "metadata": {
        "id": "Pdp6TPvQa_i1"
      },
      "source": [
        "os.mkdir('/content/usgs_data_big_files_csv')"
      ],
      "execution_count": null,
      "outputs": []
    },
    {
      "cell_type": "code",
      "metadata": {
        "id": "ojnOSmVMCeU8"
      },
      "source": [
        "def to_csv_main_file(suffix,start_year=2000,end_year=2020):\n",
        "  year_range=range(start_year,end_year)\n",
        "  l=','.join(['mag', 'place', 'time', 'updated', 'tz', 'url', 'detail', 'felt', 'cdi',\n",
        "       'mmi', 'alert', 'status', 'tsunami', 'sig', 'net', 'code', 'ids',\n",
        "       'sources', 'types', 'nst', 'dmin', 'rms', 'gap', 'magType', 'type',\n",
        "       'title', 'longitude', 'latitude', 'radius'])+'\\n'\n",
        "  with open(r'/content/usgs_data_big_files_csv/usgs_data_big_file{}.csv'.format(suffix),'a') as csv_file: \n",
        "    csv_file.write(l)\n",
        "    for year in year_range:\n",
        "\n",
        "      with open('/content/usgs_data/data-{}.json'.format(year)) as fileob:\n",
        "        if fileob:  \n",
        "          sup1_data=json.load(fileob)\n",
        "          sup2_data=sup1_data['features']\n",
        "          \n",
        "          for dictionary in sup2_data:\n",
        "            d1=dictionary['properties'].copy()\n",
        "            (d1['types'],\n",
        "            d1['longitude'],\n",
        "            d1['latitude'],\n",
        "            d1['radius'])=(dictionary['geometry']['type'],\n",
        "                              dictionary['geometry']['coordinates'][0],\n",
        "                              dictionary['geometry']['coordinates'][1],\n",
        "                              dictionary['geometry']['coordinates'][2])\n",
        "            d1['ids']=d1['ids'][1:-1]\n",
        "            d1['sources']=d1['sources'][1:-1]\n",
        "            d1['types']=d1['types'][1:-1]\n",
        "\n",
        "            l=''\n",
        "            for _,val in d1.items():\n",
        "              l=l+','+str(val).replace(',',' ')\n",
        "            \n",
        "\n",
        "            csv_file.write(l[1:]+'\\n')\n",
        "\n",
        "to_csv_main_file(2,start_year=1880)\n",
        "\n",
        "          "
      ],
      "execution_count": null,
      "outputs": []
    },
    {
      "cell_type": "code",
      "metadata": {
        "id": "lXF0vpYKK9n7"
      },
      "source": [
        ""
      ],
      "execution_count": null,
      "outputs": []
    }
  ]
}